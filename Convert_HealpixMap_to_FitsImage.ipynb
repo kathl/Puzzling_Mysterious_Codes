{
 "cells": [
  {
   "cell_type": "code",
   "execution_count": 9,
   "metadata": {},
   "outputs": [],
   "source": [
    "import matplotlib.pyplot as plt\n",
    "import matplotlib as mpl\n",
    "\n",
    "import astropy.units as u\n",
    "import astropy.wcs as ap_wcs\n",
    "from astropy.io import fits\n",
    "import reproject"
   ]
  },
  {
   "cell_type": "code",
   "execution_count": 2,
   "metadata": {},
   "outputs": [],
   "source": [
    "ext_map = fits.open('https://lambda.gsfc.nasa.gov/data/foregrounds/SFD/' + \n",
    "                    'lambda_sfd_ebv.fits')\n",
    "ext_map.writeto('Data/Schlegel_extinction_map.fits', overwrite=True)"
   ]
  },
  {
   "cell_type": "code",
   "execution_count": 4,
   "metadata": {},
   "outputs": [],
   "source": [
    "hdu_ext_map = fits.open('Data/Schlegel_extinction_map.fits', mode='update')\n",
    "hdu_ext_map[1].header['COORDSYS'] = 'Galactic'\n",
    "hdu_ext_map.flush()"
   ]
  },
  {
   "cell_type": "code",
   "execution_count": 5,
   "metadata": {},
   "outputs": [
    {
     "name": "stderr",
     "output_type": "stream",
     "text": [
      "/usr/local/lib/python3.6/dist-packages/astropy_healpix/core.py:519: RuntimeWarning: invalid value encountered in bilinear_interpolation_weights\n",
      "  result = _core.bilinear_interpolation_weights(lon, lat, nside)\n",
      "/usr/local/lib/python3.6/dist-packages/astropy_healpix/core.py:484: RuntimeWarning: invalid value encountered in ring_to_nested\n",
      "  return _core.ring_to_nested(ring_index, nside)\n"
     ]
    }
   ],
   "source": [
    "target_header = fits.Header.fromstring(\"\"\"\n",
    "NAXIS   =                    2\n",
    "NAXIS1  =                 6288\n",
    "NAXIS2  =                 3144\n",
    "CTYPE1  = 'GLON-MOL'\n",
    "CRPIX1  =                 3144\n",
    "CRVAL1  =                  0.0\n",
    "CDELT1  =              -0.1145\n",
    "CUNIT1  = 'deg     '\n",
    "CTYPE2  = 'GLAT-MOL'\n",
    "CRPIX2  =                 1572\n",
    "CRVAL2  =                  0.0\n",
    "CDELT2  =               0.1145\n",
    "CUNIT2  = 'deg     '\n",
    "COORDSYS= 'Galactic'\n",
    "\"\"\", sep='\\n')\n",
    "array, footprint = reproject.reproject_from_healpix('Data/Schlegel_extinction_map.fits', \n",
    "                                                    target_header, nested=True, hdu_in=1)"
   ]
  },
  {
   "cell_type": "code",
   "execution_count": 6,
   "metadata": {},
   "outputs": [],
   "source": [
    "prim_hdu = fits.PrimaryHDU(data=array, header=target_header)\n",
    "prim_hdu.writeto('Data/reprojected_Schlegel_extinction_map.fits', overwrite=True)"
   ]
  },
  {
   "cell_type": "code",
   "execution_count": 14,
   "metadata": {},
   "outputs": [
    {
     "data": {
      "text/plain": [
       "<matplotlib.image.AxesImage at 0x7ff348601860>"
      ]
     },
     "execution_count": 14,
     "metadata": {},
     "output_type": "execute_result"
    },
    {
     "data": {
      "image/png": "[encoded data removed]",
      "text/plain": [
       "<Figure size 720x576 with 1 Axes>"
      ]
     },
     "metadata": {
      "needs_background": "light"
     },
     "output_type": "display_data"
    }
   ],
   "source": [
    "reproj_ima = fits.open('Data/reprojected_Schlegel_extinction_map.fits')\n",
    "wcs = ap_wcs.WCS(reproj_ima[0].header)\n",
    "\n",
    "fig = plt.figure(figsize=(10, 8.0))\n",
    "ax1 = fig.add_axes([0.17, 0.17, 0.65, 0.77], projection=wcs)\n",
    "ax1.imshow(reproj_ima[0].data[ :, :], origin='lower', cmap=mpl.cm.viridis)\n",
    "lon, lat = ax1.coords[0], ax1.coords[1]\n",
    "lon.set_major_formatter('hh:mm:ss.s')\n",
    "lat.set_major_formatter('dd:mm')\n",
    "lon.set_ticklabel(exclude_overlapping=True)\n",
    "lat.set_ticklabel(exclude_overlapping=True)\n",
    "ax1.set_xlabel('RA')\n",
    "ax1.set_ylabel('Dec')"
   ]
  },
  {
   "cell_type": "code",
   "execution_count": null,
   "metadata": {},
   "outputs": [],
   "source": []
  }
 ],
 "metadata": {
  "kernelspec": {
   "display_name": "Python 3",
   "language": "python",
   "name": "python3"
  },
  "language_info": {
   "codemirror_mode": {
    "name": "ipython",
    "version": 3
   },
   "file_extension": ".py",
   "mimetype": "text/x-python",
   "name": "python",
   "nbconvert_exporter": "python",
   "pygments_lexer": "ipython3",
   "version": "3.6.9"
  }
 },
 "nbformat": 4,
 "nbformat_minor": 2
}
