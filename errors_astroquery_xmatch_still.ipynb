{
 "cells": [
  {
   "cell_type": "code",
   "execution_count": null,
   "metadata": {},
   "outputs": [],
   "source": [
    "from astropy import units as u\n",
    "from astroquery.vizier import Vizier\n",
    "from astroquery.xmatch import XMatch"
   ]
  },
  {
   "cell_type": "code",
   "execution_count": null,
   "metadata": {},
   "outputs": [],
   "source": [
    "results_dustpedia = Vizier.get_catalogs('J/A+A/609/A37')\n",
    "results_dustpedia"
   ]
  },
  {
   "cell_type": "code",
   "execution_count": null,
   "metadata": {},
   "outputs": [],
   "source": [
    "dustpedia = results_dustpedia[0]\n",
    "dustpedia"
   ]
  },
  {
   "cell_type": "code",
   "execution_count": null,
   "metadata": {},
   "outputs": [],
   "source": [
    "dustpedia.write('dustpedia.csv', overwrite=True)\n",
    "table = XMatch.query(cat1=open('dustpedia.csv'),\n",
    "                     cat2='J/ApJ/861/49/table2',\n",
    "                     max_distance=30 * u.arcsec, colRA1='RAJ2000',\n",
    "                     colDec1='DEJ2000')\n",
    "table"
   ]
  },
  {
   "cell_type": "code",
   "execution_count": null,
   "metadata": {},
   "outputs": [],
   "source": [
    "table = XMatch.query(cat1=dustpedia,\n",
    "                     cat2='J/ApJ/861/49/table2',\n",
    "                     max_distance=30 * u.arcsec, colRA1='RAJ2000',\n",
    "                     colDec1='DEJ2000')\n",
    "table"
   ]
  },
  {
   "cell_type": "code",
   "execution_count": null,
   "metadata": {},
   "outputs": [],
   "source": []
  }
 ],
 "metadata": {
  "kernelspec": {
   "display_name": "Python 3",
   "language": "python",
   "name": "python3"
  },
  "language_info": {
   "codemirror_mode": {
    "name": "ipython",
    "version": 3
   },
   "file_extension": ".py",
   "mimetype": "text/x-python",
   "name": "python",
   "nbconvert_exporter": "python",
   "pygments_lexer": "ipython3",
   "version": "3.6.8"
  }
 },
 "nbformat": 4,
 "nbformat_minor": 2
}
