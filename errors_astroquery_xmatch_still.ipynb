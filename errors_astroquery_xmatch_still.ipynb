{
 "cells": [
  {
   "cell_type": "code",
   "execution_count": 9,
   "metadata": {},
   "outputs": [],
   "source": [
    "from astropy import units as u\n",
    "from astroquery.vizier import Vizier\n",
    "from astroquery.xmatch import XMatch"
   ]
  },
  {
   "cell_type": "code",
   "execution_count": 4,
   "metadata": {},
   "outputs": [
    {
     "data": {
      "text/plain": [
       "TableList with 4 tables:\n",
       "\t'0:J/A+A/609/A37/sample' with 16 column(s) and 50 row(s) \n",
       "\t'1:J/A+A/609/A37/apphot' with 61 column(s) and 50 row(s) \n",
       "\t'2:J/A+A/609/A37/irasphot' with 9 column(s) and 50 row(s) \n",
       "\t'3:J/A+A/609/A37/plnkphot' with 16 column(s) and 50 row(s) "
      ]
     },
     "execution_count": 4,
     "metadata": {},
     "output_type": "execute_result"
    }
   ],
   "source": [
    "results_dustpedia = Vizier.get_catalogs('J/A+A/609/A37')\n",
    "results_dustpedia"
   ]
  },
  {
   "cell_type": "code",
   "execution_count": 6,
   "metadata": {},
   "outputs": [
    {
     "data": {
      "text/html": [
       "<i>Table masked=True length=50</i>\n",
       "<table id=\"table139937922083752\" class=\"table-striped table-bordered table-condensed\">\n",
       "<thead><tr><th>Name</th><th>RAJ2000</th><th>DEJ2000</th><th>MType</th><th>MClass</th><th>D25</th><th>Incl</th><th>HV</th><th>HVcorr</th><th>Distcorr</th><th>Dist0</th><th>HVH</th><th>DistH</th><th>Dist0H</th><th>Dist</th><th>SimbadName</th><th>amaj</th><th>b_a</th><th>PA</th><th>Flag</th><th>FFUV</th><th>f_FFUV</th><th>FNUV</th><th>f_FNUV</th><th>Fu</th><th>f_Fu</th><th>Fg</th><th>f_Fg</th><th>Fr</th><th>f_Fr</th><th>Fi</th><th>f_Fi</th><th>Fz</th><th>f_Fz</th><th>FJ</th><th>f_FJ</th><th>FH</th><th>f_FH</th><th>FKs</th><th>f_FKs</th><th>F3.4</th><th>f_F3.4</th><th>F4.6</th><th>f_F4.6</th><th>F12</th><th>f_F12</th><th>F22</th><th>f_F22</th><th>F3.6</th><th>f_F3.6</th><th>F4.5</th><th>f_F4.5</th><th>F5.8</th><th>f_F5.8</th><th>F8.0</th><th>f_F8.0</th><th>F24</th><th>f_F24</th><th>F70</th><th>f_F70</th><th>F160</th><th>f_F160</th><th>F70P</th><th>f_F70P</th><th>F100P</th><th>f_F100P</th><th>F160P</th><th>f_F160P</th><th>F250</th><th>f_F250</th><th>F350</th><th>f_F350</th><th>F500</th><th>f_F500</th></tr></thead>\n",
       "<thead><tr><th></th><th>deg</th><th>deg</th><th></th><th></th><th>arcsec</th><th>deg</th><th>km / s</th><th>km / s</th><th>Mpc</th><th>Mpc</th><th>km / s</th><th>Mpc</th><th>Mpc</th><th>Mpc</th><th></th><th>arcsec</th><th></th><th>deg</th><th></th><th>Jy</th><th></th><th>Jy</th><th></th><th>Jy</th><th></th><th>Jy</th><th></th><th>Jy</th><th></th><th>Jy</th><th></th><th>Jy</th><th></th><th>Jy</th><th></th><th>Jy</th><th></th><th>Jy</th><th></th><th>Jy</th><th></th><th>Jy</th><th></th><th>Jy</th><th></th><th>Jy</th><th></th><th>Jy</th><th></th><th>Jy</th><th></th><th>Jy</th><th></th><th>Jy</th><th></th><th>Jy</th><th></th><th>Jy</th><th></th><th>Jy</th><th></th><th>Jy</th><th></th><th>Jy</th><th></th><th>Jy</th><th></th><th>Jy</th><th></th><th>Jy</th><th></th><th>Jy</th><th></th></tr></thead>\n",
       "<thead><tr><th>bytes23</th><th>float64</th><th>float64</th><th>float32</th><th>bytes4</th><th>float32</th><th>float64</th><th>int16</th><th>int32</th><th>float64</th><th>float32</th><th>int32</th><th>float64</th><th>float64</th><th>float64</th><th>bytes23</th><th>float64</th><th>float64</th><th>float32</th><th>bytes1</th><th>float32</th><th>bytes1</th><th>float32</th><th>bytes1</th><th>float32</th><th>bytes2</th><th>float32</th><th>bytes2</th><th>float32</th><th>bytes2</th><th>float32</th><th>bytes2</th><th>float32</th><th>bytes2</th><th>float32</th><th>bytes1</th><th>float32</th><th>bytes1</th><th>float32</th><th>bytes1</th><th>float32</th><th>bytes2</th><th>float32</th><th>bytes2</th><th>float32</th><th>bytes2</th><th>float32</th><th>bytes2</th><th>float32</th><th>bytes3</th><th>float32</th><th>bytes3</th><th>float32</th><th>bytes3</th><th>float32</th><th>bytes3</th><th>float32</th><th>bytes3</th><th>float32</th><th>bytes3</th><th>float32</th><th>bytes2</th><th>float32</th><th>bytes2</th><th>float32</th><th>bytes2</th><th>float32</th><th>bytes2</th><th>float32</th><th>bytes2</th><th>float32</th><th>bytes2</th><th>float32</th><th>bytes2</th></tr></thead>\n",
       "<tr><td>ESO149-013</td><td>0.69450</td><td>-52.77158</td><td>9.9</td><td>IB</td><td>1.1749</td><td>90.000000</td><td>1500</td><td>1483</td><td>20.24850</td><td>--</td><td>1498</td><td>20.45330</td><td>--</td><td>20.24850</td><td>ESO149-013</td><td>77.9423</td><td>1.00002</td><td>135.000</td><td></td><td>--</td><td></td><td>-6.1e-07</td><td>N</td><td>--</td><td></td><td>--</td><td></td><td>--</td><td></td><td>--</td><td></td><td>--</td><td></td><td>0.0043</td><td></td><td>0.0073</td><td></td><td>0.0052</td><td></td><td>0.0018</td><td></td><td>0.0013</td><td></td><td>-0.0015</td><td></td><td>-0.003</td><td></td><td>--</td><td></td><td>--</td><td></td><td>--</td><td></td><td>--</td><td></td><td>--</td><td></td><td>--</td><td></td><td>--</td><td></td><td>--</td><td></td><td>--</td><td></td><td>--</td><td></td><td>0.05</td><td></td><td>0.0079</td><td></td><td>0.0073</td><td></td></tr>\n",
       "<tr><td>NGC0007</td><td>2.08695</td><td>-29.91534</td><td>4.8</td><td>Sc</td><td>2.4547</td><td>86.599998</td><td>1495</td><td>1502</td><td>20.50792</td><td>20.62</td><td>1499</td><td>20.46696</td><td>20.60631</td><td>20.60631</td><td>NGC0007</td><td>116.6688</td><td>1.52776</td><td>119.307</td><td></td><td>0.0028</td><td></td><td>0.0031</td><td></td><td>--</td><td></td><td>--</td><td></td><td>--</td><td></td><td>--</td><td></td><td>--</td><td></td><td>0.027</td><td></td><td>0.023</td><td></td><td>0.014</td><td></td><td>0.01</td><td></td><td>0.0045</td><td></td><td>0.0054</td><td></td><td>0.017</td><td></td><td>0.011</td><td></td><td>0.0083</td><td></td><td>--</td><td></td><td>--</td><td></td><td>--</td><td></td><td>--</td><td></td><td>--</td><td></td><td>--</td><td></td><td>-0.59</td><td></td><td>0.48</td><td></td><td>0.42</td><td></td><td>0.34</td><td></td><td>0.17</td><td></td></tr>\n",
       "<tr><td>ESO410-005</td><td>3.88020</td><td>-32.18061</td><td>0.4</td><td>S0-a</td><td>1.2882</td><td>51.799999</td><td>159</td><td>164</td><td>2.23921</td><td>1.90</td><td>36</td><td>0.49153</td><td>1.94089</td><td>1.94089</td><td>ESO410-005</td><td>86.9907</td><td>1.10805</td><td>-34.808</td><td></td><td>0.00017</td><td></td><td>0.00051</td><td></td><td>--</td><td></td><td>--</td><td></td><td>--</td><td></td><td>--</td><td></td><td>--</td><td></td><td>-0.038</td><td>A</td><td>-0.029</td><td></td><td>-0.024</td><td></td><td>0.0033</td><td></td><td>-0.00075</td><td></td><td>0.027</td><td>a</td><td>0.0053</td><td>a</td><td>--</td><td></td><td>0.0047</td><td></td><td>-0.0088</td><td>A</td><td>0.0033</td><td></td><td>-0.0063</td><td></td><td>--</td><td></td><td>--</td><td></td><td>--</td><td></td><td>0.61</td><td></td><td>0.58</td><td></td><td>0.05</td><td></td><td>0.016</td><td></td><td>0.0098</td><td></td></tr>\n",
       "<tr><td>IC0010</td><td>5.09625</td><td>59.29310</td><td>9.9</td><td>IB</td><td>6.6069</td><td>31.100000</td><td>-348</td><td>-69</td><td>-0.94211</td><td>0.88</td><td>-345</td><td>--</td><td>0.79433</td><td>0.79433</td><td>IC0010</td><td>542.4058</td><td>1.18593</td><td>-2.622</td><td></td><td>--</td><td></td><td>83</td><td></td><td>--</td><td></td><td>--</td><td></td><td>--</td><td></td><td>--</td><td></td><td>--</td><td></td><td>12</td><td></td><td>9.5</td><td></td><td>7.5</td><td></td><td>3.9</td><td></td><td>2.2</td><td></td><td>2.1</td><td></td><td>11</td><td></td><td>2.5</td><td>N</td><td>1.4</td><td>N</td><td>2.3</td><td>N</td><td>3.8</td><td>N</td><td>6.8</td><td>N</td><td>--</td><td></td><td>--</td><td></td><td>1.5e+02</td><td></td><td>2.2e+02</td><td></td><td>2.2e+02</td><td></td><td>1.1e+02</td><td></td><td>53</td><td></td><td>21</td><td></td></tr>\n",
       "<tr><td>NGC0115</td><td>6.69330</td><td>-33.67698</td><td>3.9</td><td>SBbc</td><td>2.0893</td><td>74.400002</td><td>1825</td><td>1821</td><td>24.86346</td><td>29.98</td><td>1828</td><td>24.95904</td><td>28.70782</td><td>28.70782</td><td>NGC0115</td><td>129.8795</td><td>1.67134</td><td>36.707</td><td></td><td>0.0031</td><td></td><td>0.0039</td><td></td><td>--</td><td></td><td>--</td><td></td><td>--</td><td></td><td>--</td><td></td><td>--</td><td></td><td>0.034</td><td></td><td>0.032</td><td></td><td>0.022</td><td></td><td>0.015</td><td></td><td>0.011</td><td></td><td>0.014</td><td></td><td>0.024</td><td></td><td>0.014</td><td></td><td>0.011</td><td></td><td>--</td><td></td><td>--</td><td></td><td>--</td><td></td><td>--</td><td></td><td>--</td><td></td><td>--</td><td></td><td>0.9</td><td></td><td>2.2</td><td></td><td>0.91</td><td></td><td>0.5</td><td></td><td>0.26</td><td></td></tr>\n",
       "<tr><td>ESO410-012</td><td>7.07520</td><td>-27.98335</td><td>4.7</td><td>Sc</td><td>1.4125</td><td>82.800003</td><td>1545</td><td>1539</td><td>21.01311</td><td>--</td><td>1544</td><td>21.08138</td><td>--</td><td>21.01311</td><td>ESO410-012</td><td>84.7903</td><td>4.16748</td><td>35.498</td><td></td><td>0.00037</td><td></td><td>0.00044</td><td></td><td>--</td><td></td><td>--</td><td></td><td>--</td><td></td><td>--</td><td></td><td>--</td><td></td><td>0.002</td><td></td><td>0.0025</td><td></td><td>0.005</td><td></td><td>0.0011</td><td></td><td>0.00045</td><td></td><td>0.00023</td><td></td><td>0.0036</td><td></td><td>0.0013</td><td></td><td>0.00085</td><td></td><td>--</td><td></td><td>--</td><td></td><td>--</td><td></td><td>--</td><td></td><td>--</td><td></td><td>--</td><td></td><td>-0.038</td><td></td><td>-0.11</td><td></td><td>--</td><td></td><td>--</td><td></td><td>--</td><td></td></tr>\n",
       "<tr><td>NGC0131</td><td>7.41045</td><td>-33.25987</td><td>3.0</td><td>SBb</td><td>1.8197</td><td>73.800003</td><td>1410</td><td>1399</td><td>19.10158</td><td>--</td><td>1416</td><td>19.33370</td><td>--</td><td>19.10158</td><td>NGC0131</td><td>126.5276</td><td>1.61119</td><td>-29.840</td><td></td><td>0.0014</td><td></td><td>0.0021</td><td></td><td>--</td><td></td><td>--</td><td></td><td>--</td><td></td><td>--</td><td></td><td>--</td><td></td><td>0.047</td><td></td><td>0.047</td><td></td><td>0.048</td><td></td><td>0.025</td><td></td><td>0.014</td><td></td><td>0.047</td><td></td><td>0.059</td><td></td><td>0.025</td><td></td><td>0.017</td><td></td><td>--</td><td></td><td>--</td><td></td><td>--</td><td></td><td>--</td><td></td><td>--</td><td></td><td>--</td><td></td><td>0.84</td><td></td><td>3.7</td><td></td><td>1.7</td><td></td><td>0.81</td><td></td><td>0.38</td><td></td></tr>\n",
       "<tr><td>UGC00300</td><td>7.51740</td><td>3.51291</td><td>10.0</td><td>IAB</td><td>1.0471</td><td>24.000000</td><td>1346</td><td>1373</td><td>18.74659</td><td>17.80</td><td>1345</td><td>18.36428</td><td>--</td><td>17.80000</td><td>UGC00300</td><td>77.9423</td><td>1.00002</td><td>135.000</td><td></td><td>0.0005</td><td></td><td>0.00061</td><td></td><td>0.00056</td><td></td><td>0.0027</td><td></td><td>0.0036</td><td></td><td>0.0042</td><td></td><td>0.004</td><td></td><td>0.0089</td><td></td><td>0.00092</td><td></td><td>6e-05</td><td></td><td>0.0019</td><td></td><td>0.001</td><td></td><td>-0.0014</td><td></td><td>-0.0052</td><td></td><td>--</td><td></td><td>0.0024</td><td></td><td>--</td><td></td><td>--</td><td></td><td>0.0015</td><td></td><td>--</td><td></td><td>--</td><td></td><td>--</td><td></td><td>--</td><td></td><td>--</td><td></td><td>0.058</td><td></td><td>-0.019</td><td></td><td>0.048</td><td></td></tr>\n",
       "<tr><td>UGC00313</td><td>7.85880</td><td>6.20675</td><td>4.3</td><td>Sbc</td><td>1.2023</td><td>55.900002</td><td>2085</td><td>2075</td><td>28.33151</td><td>--</td><td>2084</td><td>28.45440</td><td>--</td><td>28.33151</td><td>UGC00313</td><td>77.9423</td><td>1.00002</td><td>135.000</td><td></td><td>0.0011</td><td></td><td>0.0011</td><td></td><td>0.0038</td><td></td><td>0.0087</td><td></td><td>0.014</td><td></td><td>0.017</td><td></td><td>0.02</td><td></td><td>0.019</td><td></td><td>0.015</td><td></td><td>0.01</td><td></td><td>0.011</td><td></td><td>0.0072</td><td></td><td>0.017</td><td></td><td>0.024</td><td></td><td>0.012</td><td></td><td>0.008</td><td></td><td>--</td><td></td><td>--</td><td></td><td>--</td><td></td><td>--</td><td></td><td>--</td><td></td><td>--</td><td></td><td>--</td><td></td><td>--</td><td></td><td>0.68</td><td></td><td>0.35</td><td></td><td>0.15</td><td></td></tr>\n",
       "<tr><td>...</td><td>...</td><td>...</td><td>...</td><td>...</td><td>...</td><td>...</td><td>...</td><td>...</td><td>...</td><td>...</td><td>...</td><td>...</td><td>...</td><td>...</td><td>...</td><td>...</td><td>...</td><td>...</td><td>...</td><td>...</td><td>...</td><td>...</td><td>...</td><td>...</td><td>...</td><td>...</td><td>...</td><td>...</td><td>...</td><td>...</td><td>...</td><td>...</td><td>...</td><td>...</td><td>...</td><td>...</td><td>...</td><td>...</td><td>...</td><td>...</td><td>...</td><td>...</td><td>...</td><td>...</td><td>...</td><td>...</td><td>...</td><td>...</td><td>...</td><td>...</td><td>...</td><td>...</td><td>...</td><td>...</td><td>...</td><td>...</td><td>...</td><td>...</td><td>...</td><td>...</td><td>...</td><td>...</td><td>...</td><td>...</td><td>...</td><td>...</td><td>...</td><td>...</td><td>...</td><td>...</td><td>...</td><td>...</td><td>...</td></tr>\n",
       "<tr><td>NGC0678</td><td>27.35355</td><td>21.99728</td><td>3.0</td><td>SBb</td><td>3.0903</td><td>90.000000</td><td>2835</td><td>2766</td><td>37.76625</td><td>27.87</td><td>2793</td><td>38.13490</td><td>--</td><td>27.87000</td><td>NGC0678</td><td>240.3184</td><td>3.11698</td><td>-12.666</td><td></td><td>0.00054</td><td></td><td>0.00086</td><td></td><td>0.0043</td><td></td><td>0.038</td><td></td><td>0.086</td><td></td><td>0.13</td><td></td><td>0.18</td><td></td><td>0.28</td><td></td><td>0.31</td><td></td><td>0.31</td><td></td><td>0.14</td><td></td><td>0.074</td><td></td><td>0.082</td><td></td><td>0.077</td><td></td><td>0.13</td><td>N</td><td>0.082</td><td>N</td><td>--</td><td></td><td>--</td><td></td><td>--</td><td></td><td>--</td><td></td><td>--</td><td></td><td>--</td><td></td><td>1.2</td><td>n</td><td>3.2</td><td>n</td><td>2.2</td><td></td><td>1</td><td></td><td>0.29</td><td></td></tr>\n",
       "<tr><td>NGC0720</td><td>28.25220</td><td>-13.73858</td><td>-4.9</td><td>E</td><td>4.4668</td><td>90.000000</td><td>1745</td><td>1691</td><td>23.08848</td><td>23.18</td><td>1717</td><td>23.44347</td><td>27.41572</td><td>27.41572</td><td>NGC0720</td><td>376.8749</td><td>1.77515</td><td>54.288</td><td></td><td>0.0011</td><td></td><td>0.0031</td><td></td><td>--</td><td></td><td>--</td><td></td><td>--</td><td></td><td>--</td><td></td><td>--</td><td></td><td>1</td><td></td><td>1.4</td><td></td><td>1</td><td></td><td>0.49</td><td></td><td>0.26</td><td></td><td>0.099</td><td></td><td>0.045</td><td></td><td>--</td><td></td><td>0.3</td><td></td><td>0.25</td><td>N</td><td>--</td><td></td><td>--</td><td></td><td>--</td><td></td><td>--</td><td></td><td>--</td><td></td><td>--</td><td></td><td>--</td><td></td><td>-0.52</td><td></td><td>-0.51</td><td></td><td>-0.28</td><td></td></tr>\n",
       "<tr><td>PGC007045</td><td>28.51305</td><td>-14.25298</td><td>-0.1</td><td>S0-a</td><td>1.5849</td><td>90.000000</td><td>1423</td><td>1378</td><td>18.81486</td><td>--</td><td>1428</td><td>19.49754</td><td>--</td><td>18.81486</td><td>PGC007045</td><td>108.7926</td><td>1.39935</td><td>-14.057</td><td></td><td>0.00013</td><td></td><td>0.00032</td><td></td><td>0.0036</td><td></td><td>0.012</td><td></td><td>0.024</td><td></td><td>0.034</td><td></td><td>0.044</td><td></td><td>0.056</td><td></td><td>0.067</td><td></td><td>0.064</td><td></td><td>0.03</td><td></td><td>0.016</td><td></td><td>0.027</td><td></td><td>0.034</td><td></td><td>--</td><td></td><td>--</td><td></td><td>--</td><td></td><td>--</td><td></td><td>--</td><td></td><td>--</td><td></td><td>--</td><td></td><td>--</td><td></td><td>--</td><td></td><td>--</td><td></td><td>0.94</td><td></td><td>0.41</td><td></td><td>0.14</td><td></td></tr>\n",
       "<tr><td>NGC0855</td><td>33.51495</td><td>27.87685</td><td>-4.8</td><td>E</td><td>2.9512</td><td>90.000000</td><td>592</td><td>693</td><td>9.46204</td><td>9.28</td><td>592</td><td>8.08301</td><td>9.63829</td><td>9.63829</td><td>NGC0855</td><td>152.8909</td><td>1.80451</td><td>-19.455</td><td></td><td>0.0014</td><td></td><td>0.003</td><td></td><td>0.011</td><td></td><td>0.033</td><td></td><td>0.054</td><td></td><td>0.069</td><td></td><td>0.08</td><td></td><td>0.098</td><td></td><td>0.15</td><td></td><td>0.11</td><td></td><td>0.044</td><td></td><td>0.024</td><td></td><td>0.039</td><td></td><td>0.11</td><td></td><td>0.045</td><td>n</td><td>0.03</td><td>n</td><td>0.035</td><td>n</td><td>0.047</td><td>n</td><td>0.082</td><td></td><td>--</td><td></td><td>--</td><td></td><td>1.9</td><td></td><td>2.7</td><td></td><td>2.1</td><td></td><td>1.1</td><td></td><td>0.47</td><td></td><td>0.15</td><td></td></tr>\n",
       "<tr><td>PGC008962</td><td>35.36925</td><td>-4.41310</td><td>6.9</td><td>SBcd</td><td>1.4791</td><td>80.599998</td><td>2316</td><td>2234</td><td>30.50246</td><td>--</td><td>2316</td><td>31.62206</td><td>--</td><td>30.50246</td><td>PGC008962</td><td>108.9199</td><td>1.33446</td><td>-30.832</td><td></td><td>0.00064</td><td></td><td>0.00081</td><td></td><td>0.001</td><td></td><td>0.0028</td><td></td><td>0.0035</td><td></td><td>0.0039</td><td></td><td>0.0037</td><td></td><td>0.0047</td><td></td><td>0.0063</td><td></td><td>0.011</td><td></td><td>0.0019</td><td></td><td>0.00035</td><td></td><td>0.0066</td><td></td><td>-0.001</td><td></td><td>0.0038</td><td></td><td>0.0026</td><td></td><td>0.0042</td><td></td><td>0.0014</td><td></td><td>0.005</td><td></td><td>0.0063</td><td></td><td>0.08</td><td></td><td>--</td><td></td><td>--</td><td></td><td>0.046</td><td></td><td>0.064</td><td></td><td>0.031</td><td></td><td>-0.00025</td><td></td></tr>\n",
       "<tr><td>NGC0895</td><td>35.40195</td><td>-5.52139</td><td>6.0</td><td>Sc</td><td>3.3113</td><td>49.099998</td><td>2288</td><td>2207</td><td>30.13381</td><td>28.57</td><td>2288</td><td>31.23976</td><td>35.31834</td><td>35.31834</td><td>NGC0895</td><td>195.8725</td><td>1.56006</td><td>24.610</td><td></td><td>0.008</td><td></td><td>0.011</td><td></td><td>0.024</td><td></td><td>0.063</td><td></td><td>0.093</td><td></td><td>0.12</td><td></td><td>0.13</td><td></td><td>0.19</td><td></td><td>0.34</td><td></td><td>0.21</td><td></td><td>0.077</td><td></td><td>0.043</td><td></td><td>0.19</td><td></td><td>0.23</td><td></td><td>0.082</td><td></td><td>0.057</td><td></td><td>0.089</td><td></td><td>0.22</td><td></td><td>0.18</td><td></td><td>1.8</td><td>a</td><td>10</td><td></td><td>--</td><td></td><td>7.1</td><td></td><td>10</td><td></td><td>6.2</td><td></td><td>3.2</td><td></td><td>1.3</td><td></td></tr>\n",
       "<tr><td>NGC0891</td><td>35.63970</td><td>42.34712</td><td>3.1</td><td>Sb</td><td>13.1826</td><td>90.000000</td><td>528</td><td>689</td><td>9.40743</td><td>10.09</td><td>528</td><td>7.20918</td><td>9.86279</td><td>9.86279</td><td>NGC0891</td><td>518.7707</td><td>3.08254</td><td>113.774</td><td></td><td>0.0051</td><td></td><td>0.015</td><td></td><td>--</td><td></td><td>--</td><td></td><td>--</td><td></td><td>--</td><td></td><td>--</td><td></td><td>1.9</td><td></td><td>1.4</td><td>a</td><td>2.5</td><td></td><td>1.9</td><td></td><td>1.3</td><td></td><td>5.3</td><td></td><td>6.5</td><td></td><td>1.9</td><td>n</td><td>1.4</td><td></td><td>2.7</td><td>n</td><td>6.4</td><td>A</td><td>6.3</td><td>n</td><td>99</td><td>n</td><td>2.9e+02</td><td>n</td><td>1.2e+02</td><td>n</td><td>2.6e+02</td><td>n</td><td>3.3e+02</td><td>n</td><td>1.7e+02</td><td></td><td>71</td><td></td><td>25</td><td></td></tr>\n",
       "<tr><td>NGC0925</td><td>36.82035</td><td>33.57900</td><td>7.0</td><td>Scd</td><td>10.7152</td><td>58.700001</td><td>553</td><td>676</td><td>9.22993</td><td>8.61</td><td>554</td><td>7.56417</td><td>9.20449</td><td>9.20449</td><td>NGC0925</td><td>466.1181</td><td>1.91304</td><td>18.850</td><td></td><td>0.049</td><td></td><td>0.062</td><td></td><td>--</td><td></td><td>--</td><td></td><td>--</td><td></td><td>--</td><td></td><td>--</td><td></td><td>0.66</td><td></td><td>0.59</td><td></td><td>0.47</td><td></td><td>0.31</td><td></td><td>0.18</td><td></td><td>0.58</td><td></td><td>0.88</td><td></td><td>0.22</td><td>n</td><td>0.2</td><td>n</td><td>0.1</td><td>n</td><td>0.53</td><td>n</td><td>0.79</td><td></td><td>--</td><td></td><td>--</td><td></td><td>16</td><td>n</td><td>28</td><td>n</td><td>38</td><td>n</td><td>24</td><td></td><td>13</td><td></td><td>6</td><td></td></tr>\n",
       "<tr><td>PGC009485</td><td>37.38195</td><td>-3.21300</td><td>0.3</td><td>S0-a</td><td>1.5136</td><td>46.000000</td><td>2435</td><td>2348</td><td>32.05898</td><td>--</td><td>2437</td><td>33.27417</td><td>--</td><td>32.05898</td><td>PGC009485</td><td>91.5857</td><td>1.17252</td><td>-5.411</td><td></td><td>0.0032</td><td></td><td>0.0043</td><td></td><td>0.0091</td><td></td><td>0.023</td><td></td><td>0.036</td><td></td><td>0.046</td><td></td><td>0.053</td><td></td><td>0.073</td><td></td><td>0.089</td><td></td><td>0.078</td><td></td><td>0.034</td><td></td><td>0.02</td><td></td><td>0.084</td><td></td><td>0.19</td><td></td><td>--</td><td></td><td>--</td><td></td><td>--</td><td></td><td>--</td><td></td><td>--</td><td></td><td>--</td><td></td><td>--</td><td></td><td>--</td><td></td><td>4.6</td><td></td><td>1.1</td><td></td><td>--</td><td></td><td>--</td><td></td><td>--</td><td></td></tr>\n",
       "<tr><td>NGC1052</td><td>40.26990</td><td>-8.25580</td><td>-4.7</td><td>E</td><td>2.9512</td><td>70.500000</td><td>1510</td><td>1454</td><td>19.85254</td><td>19.72</td><td>1484</td><td>20.26215</td><td>17.53880</td><td>17.53880</td><td>NGC1052</td><td>309.3535</td><td>1.22633</td><td>43.529</td><td></td><td>0.0011</td><td></td><td>0.0028</td><td></td><td>0.035</td><td></td><td>0.16</td><td></td><td>0.33</td><td></td><td>0.5</td><td></td><td>0.58</td><td></td><td>0.86</td><td></td><td>1.3</td><td></td><td>0.92</td><td></td><td>0.43</td><td></td><td>0.24</td><td></td><td>0.26</td><td></td><td>0.59</td><td></td><td>0.41</td><td>N</td><td>0.29</td><td>N</td><td>0.32</td><td>N</td><td>0.23</td><td>N</td><td>--</td><td></td><td>--</td><td></td><td>--</td><td></td><td>--</td><td></td><td>--</td><td></td><td>--</td><td></td><td>2.1</td><td>n</td><td>2</td><td>n</td><td>0.54</td><td>n</td></tr>\n",
       "</table>"
      ],
      "text/plain": [
       "<Table masked=True length=50>\n",
       "   Name     RAJ2000   DEJ2000   MType  ...    F350   f_F350    F500   f_F500\n",
       "              deg       deg            ...     Jy               Jy          \n",
       " bytes23    float64   float64  float32 ...  float32  bytes2  float32  bytes2\n",
       "---------- --------- --------- ------- ... --------- ------ --------- ------\n",
       "ESO149-013   0.69450 -52.77158     9.9 ...    0.0079           0.0073       \n",
       "   NGC0007   2.08695 -29.91534     4.8 ...      0.34             0.17       \n",
       "ESO410-005   3.88020 -32.18061     0.4 ...     0.016           0.0098       \n",
       "    IC0010   5.09625  59.29310     9.9 ...        53               21       \n",
       "   NGC0115   6.69330 -33.67698     3.9 ...       0.5             0.26       \n",
       "ESO410-012   7.07520 -27.98335     4.7 ...        --               --       \n",
       "   NGC0131   7.41045 -33.25987     3.0 ...      0.81             0.38       \n",
       "  UGC00300   7.51740   3.51291    10.0 ...    -0.019            0.048       \n",
       "  UGC00313   7.85880   6.20675     4.3 ...      0.35             0.15       \n",
       "       ...       ...       ...     ... ...       ...    ...       ...    ...\n",
       "   NGC0678  27.35355  21.99728     3.0 ...         1             0.29       \n",
       "   NGC0720  28.25220 -13.73858    -4.9 ...     -0.51            -0.28       \n",
       " PGC007045  28.51305 -14.25298    -0.1 ...      0.41             0.14       \n",
       "   NGC0855  33.51495  27.87685    -4.8 ...      0.47             0.15       \n",
       " PGC008962  35.36925  -4.41310     6.9 ...     0.031         -0.00025       \n",
       "   NGC0895  35.40195  -5.52139     6.0 ...       3.2              1.3       \n",
       "   NGC0891  35.63970  42.34712     3.1 ...        71               25       \n",
       "   NGC0925  36.82035  33.57900     7.0 ...        13                6       \n",
       " PGC009485  37.38195  -3.21300     0.3 ...        --               --       \n",
       "   NGC1052  40.26990  -8.25580    -4.7 ...         2      n      0.54      n"
      ]
     },
     "execution_count": 6,
     "metadata": {},
     "output_type": "execute_result"
    }
   ],
   "source": [
    "dustpedia = results_dustpedia[0]\n",
    "dustpedia"
   ]
  },
  {
   "cell_type": "code",
   "execution_count": 12,
   "metadata": {},
   "outputs": [
    {
     "ename": "ValueError",
     "evalue": "Specify the name of the RA/Dec columns in the input table.",
     "output_type": "error",
     "traceback": [
      "\u001b[0;31m---------------------------------------------------------------------------\u001b[0m",
      "\u001b[0;31mValueError\u001b[0m                                Traceback (most recent call last)",
      "\u001b[0;32m<ipython-input-12-237ad22a20e6>\u001b[0m in \u001b[0;36m<module>\u001b[0;34m\u001b[0m\n\u001b[1;32m      3\u001b[0m                      \u001b[0mcat2\u001b[0m\u001b[0;34m=\u001b[0m\u001b[0;34m'J/ApJ/861/49/table2'\u001b[0m\u001b[0;34m,\u001b[0m\u001b[0;34m\u001b[0m\u001b[0;34m\u001b[0m\u001b[0m\n\u001b[1;32m      4\u001b[0m                      \u001b[0mmax_distance\u001b[0m\u001b[0;34m=\u001b[0m\u001b[0;36m30\u001b[0m \u001b[0;34m*\u001b[0m \u001b[0mu\u001b[0m\u001b[0;34m.\u001b[0m\u001b[0marcsec\u001b[0m\u001b[0;34m,\u001b[0m \u001b[0mcolRA1\u001b[0m\u001b[0;34m=\u001b[0m\u001b[0mdustpedia\u001b[0m\u001b[0;34m.\u001b[0m\u001b[0mcolnames\u001b[0m\u001b[0;34m[\u001b[0m\u001b[0;36m1\u001b[0m\u001b[0;34m]\u001b[0m\u001b[0;34m,\u001b[0m\u001b[0;34m\u001b[0m\u001b[0;34m\u001b[0m\u001b[0m\n\u001b[0;32m----> 5\u001b[0;31m                      colDec1=dustpedia.colnames[1])\n\u001b[0m\u001b[1;32m      6\u001b[0m \u001b[0mtable\u001b[0m\u001b[0;34m\u001b[0m\u001b[0;34m\u001b[0m\u001b[0m\n",
      "\u001b[0;32m/usr/local/lib/python3.6/dist-packages/astroquery/xmatch/core.py\u001b[0m in \u001b[0;36mquery\u001b[0;34m(self, cat1, cat2, max_distance, colRA1, colDec1, colRA2, colDec2, cache, get_query_payload)\u001b[0m\n\u001b[1;32m     58\u001b[0m         response = self.query_async(cat1, cat2, max_distance, colRA1, colDec1,\n\u001b[1;32m     59\u001b[0m                                     \u001b[0mcolRA2\u001b[0m\u001b[0;34m,\u001b[0m \u001b[0mcolDec2\u001b[0m\u001b[0;34m,\u001b[0m \u001b[0mcache\u001b[0m\u001b[0;34m=\u001b[0m\u001b[0mcache\u001b[0m\u001b[0;34m,\u001b[0m\u001b[0;34m\u001b[0m\u001b[0;34m\u001b[0m\u001b[0m\n\u001b[0;32m---> 60\u001b[0;31m                                     get_query_payload=get_query_payload)\n\u001b[0m\u001b[1;32m     61\u001b[0m         \u001b[0;32mif\u001b[0m \u001b[0mget_query_payload\u001b[0m\u001b[0;34m:\u001b[0m\u001b[0;34m\u001b[0m\u001b[0;34m\u001b[0m\u001b[0m\n\u001b[1;32m     62\u001b[0m             \u001b[0;32mreturn\u001b[0m \u001b[0mresponse\u001b[0m\u001b[0;34m\u001b[0m\u001b[0;34m\u001b[0m\u001b[0m\n",
      "\u001b[0;32m/usr/local/lib/python3.6/dist-packages/astroquery/xmatch/core.py\u001b[0m in \u001b[0;36mquery_async\u001b[0;34m(self, cat1, cat2, max_distance, colRA1, colDec1, colRA2, colDec2, cache, get_query_payload)\u001b[0m\n\u001b[1;32m     84\u001b[0m \u001b[0;34m\u001b[0m\u001b[0m\n\u001b[1;32m     85\u001b[0m         \u001b[0mself\u001b[0m\u001b[0;34m.\u001b[0m\u001b[0m_prepare_sending_table\u001b[0m\u001b[0;34m(\u001b[0m\u001b[0;36m1\u001b[0m\u001b[0;34m,\u001b[0m \u001b[0mpayload\u001b[0m\u001b[0;34m,\u001b[0m \u001b[0mkwargs\u001b[0m\u001b[0;34m,\u001b[0m \u001b[0mcat1\u001b[0m\u001b[0;34m,\u001b[0m \u001b[0mcolRA1\u001b[0m\u001b[0;34m,\u001b[0m \u001b[0mcolDec1\u001b[0m\u001b[0;34m)\u001b[0m\u001b[0;34m\u001b[0m\u001b[0;34m\u001b[0m\u001b[0m\n\u001b[0;32m---> 86\u001b[0;31m         \u001b[0mself\u001b[0m\u001b[0;34m.\u001b[0m\u001b[0m_prepare_sending_table\u001b[0m\u001b[0;34m(\u001b[0m\u001b[0;36m2\u001b[0m\u001b[0;34m,\u001b[0m \u001b[0mpayload\u001b[0m\u001b[0;34m,\u001b[0m \u001b[0mkwargs\u001b[0m\u001b[0;34m,\u001b[0m \u001b[0mcat2\u001b[0m\u001b[0;34m,\u001b[0m \u001b[0mcolRA2\u001b[0m\u001b[0;34m,\u001b[0m \u001b[0mcolDec2\u001b[0m\u001b[0;34m)\u001b[0m\u001b[0;34m\u001b[0m\u001b[0;34m\u001b[0m\u001b[0m\n\u001b[0m\u001b[1;32m     87\u001b[0m \u001b[0;34m\u001b[0m\u001b[0m\n\u001b[1;32m     88\u001b[0m         \u001b[0;32mif\u001b[0m \u001b[0mget_query_payload\u001b[0m\u001b[0;34m:\u001b[0m\u001b[0;34m\u001b[0m\u001b[0;34m\u001b[0m\u001b[0m\n",
      "\u001b[0;32m/usr/local/lib/python3.6/dist-packages/astroquery/xmatch/core.py\u001b[0m in \u001b[0;36m_prepare_sending_table\u001b[0;34m(self, i, payload, kwargs, cat, colRA, colDec)\u001b[0m\n\u001b[1;32m    116\u001b[0m             \u001b[0;32mif\u001b[0m \u001b[0;34m(\u001b[0m\u001b[0;34m(\u001b[0m\u001b[0mcolRA\u001b[0m \u001b[0;32mis\u001b[0m \u001b[0;32mNone\u001b[0m\u001b[0;34m)\u001b[0m \u001b[0;32mor\u001b[0m \u001b[0;34m(\u001b[0m\u001b[0mcolDec\u001b[0m \u001b[0;32mis\u001b[0m \u001b[0;32mNone\u001b[0m\u001b[0;34m)\u001b[0m\u001b[0;34m)\u001b[0m\u001b[0;34m:\u001b[0m\u001b[0;34m\u001b[0m\u001b[0;34m\u001b[0m\u001b[0m\n\u001b[1;32m    117\u001b[0m                 raise ValueError('Specify the name of the RA/Dec columns in' +\n\u001b[0;32m--> 118\u001b[0;31m                                  ' the input table.')\n\u001b[0m\u001b[1;32m    119\u001b[0m             \u001b[0;31m# if `cat1` is not a VizieR table,\u001b[0m\u001b[0;34m\u001b[0m\u001b[0;34m\u001b[0m\u001b[0;34m\u001b[0m\u001b[0m\n\u001b[1;32m    120\u001b[0m             \u001b[0;31m# it is assumed it's either a URL or an uploaded table\u001b[0m\u001b[0;34m\u001b[0m\u001b[0;34m\u001b[0m\u001b[0;34m\u001b[0m\u001b[0m\n",
      "\u001b[0;31mValueError\u001b[0m: Specify the name of the RA/Dec columns in the input table."
     ]
    }
   ],
   "source": [
    "dustpedia.write('Tables/dustpedia.csv', overwrite=True)\n",
    "table = XMatch.query(cat1=open('Tables/dustpedia.csv'),\n",
    "                     cat2='J/ApJ/861/49/table2',\n",
    "                     max_distance=30 * u.arcsec, colRA1='RAJ2000',\n",
    "                     colDec1='DEJ2000')\n",
    "table"
   ]
  },
  {
   "cell_type": "code",
   "execution_count": 11,
   "metadata": {},
   "outputs": [
    {
     "name": "stderr",
     "output_type": "stream",
     "text": [
      "/usr/local/lib/python3.6/dist-packages/astropy/table/table.py:2758: FutureWarning: elementwise == comparison failed and returning scalar instead; this will raise an error or perform elementwise comparison in the future.\n",
      "  result = (self.as_array().data == other) & (self.mask == false_mask)\n"
     ]
    },
    {
     "ename": "ValueError",
     "evalue": "The truth value of an array with more than one element is ambiguous. Use a.any() or a.all()",
     "output_type": "error",
     "traceback": [
      "\u001b[0;31m---------------------------------------------------------------------------\u001b[0m",
      "\u001b[0;31mValueError\u001b[0m                                Traceback (most recent call last)",
      "\u001b[0;32m<ipython-input-11-8ecd83c1d1bc>\u001b[0m in \u001b[0;36m<module>\u001b[0;34m\u001b[0m\n\u001b[1;32m      2\u001b[0m                      \u001b[0mcat2\u001b[0m\u001b[0;34m=\u001b[0m\u001b[0;34m'J/ApJ/861/49/table2'\u001b[0m\u001b[0;34m,\u001b[0m\u001b[0;34m\u001b[0m\u001b[0;34m\u001b[0m\u001b[0m\n\u001b[1;32m      3\u001b[0m                      \u001b[0mmax_distance\u001b[0m\u001b[0;34m=\u001b[0m\u001b[0;36m30\u001b[0m \u001b[0;34m*\u001b[0m \u001b[0mu\u001b[0m\u001b[0;34m.\u001b[0m\u001b[0marcsec\u001b[0m\u001b[0;34m,\u001b[0m \u001b[0mcolRA1\u001b[0m\u001b[0;34m=\u001b[0m\u001b[0;34m'RAJ2000'\u001b[0m\u001b[0;34m,\u001b[0m\u001b[0;34m\u001b[0m\u001b[0;34m\u001b[0m\u001b[0m\n\u001b[0;32m----> 4\u001b[0;31m                      colDec1='DEJ2000')\n\u001b[0m\u001b[1;32m      5\u001b[0m \u001b[0mtable\u001b[0m\u001b[0;34m\u001b[0m\u001b[0;34m\u001b[0m\u001b[0m\n",
      "\u001b[0;32m/usr/local/lib/python3.6/dist-packages/astroquery/xmatch/core.py\u001b[0m in \u001b[0;36mquery\u001b[0;34m(self, cat1, cat2, max_distance, colRA1, colDec1, colRA2, colDec2, cache, get_query_payload)\u001b[0m\n\u001b[1;32m     58\u001b[0m         response = self.query_async(cat1, cat2, max_distance, colRA1, colDec1,\n\u001b[1;32m     59\u001b[0m                                     \u001b[0mcolRA2\u001b[0m\u001b[0;34m,\u001b[0m \u001b[0mcolDec2\u001b[0m\u001b[0;34m,\u001b[0m \u001b[0mcache\u001b[0m\u001b[0;34m=\u001b[0m\u001b[0mcache\u001b[0m\u001b[0;34m,\u001b[0m\u001b[0;34m\u001b[0m\u001b[0;34m\u001b[0m\u001b[0m\n\u001b[0;32m---> 60\u001b[0;31m                                     get_query_payload=get_query_payload)\n\u001b[0m\u001b[1;32m     61\u001b[0m         \u001b[0;32mif\u001b[0m \u001b[0mget_query_payload\u001b[0m\u001b[0;34m:\u001b[0m\u001b[0;34m\u001b[0m\u001b[0;34m\u001b[0m\u001b[0m\n\u001b[1;32m     62\u001b[0m             \u001b[0;32mreturn\u001b[0m \u001b[0mresponse\u001b[0m\u001b[0;34m\u001b[0m\u001b[0;34m\u001b[0m\u001b[0m\n",
      "\u001b[0;32m/usr/local/lib/python3.6/dist-packages/astroquery/xmatch/core.py\u001b[0m in \u001b[0;36mquery_async\u001b[0;34m(self, cat1, cat2, max_distance, colRA1, colDec1, colRA2, colDec2, cache, get_query_payload)\u001b[0m\n\u001b[1;32m     83\u001b[0m         \u001b[0mkwargs\u001b[0m \u001b[0;34m=\u001b[0m \u001b[0;34m{\u001b[0m\u001b[0;34m}\u001b[0m\u001b[0;34m\u001b[0m\u001b[0;34m\u001b[0m\u001b[0m\n\u001b[1;32m     84\u001b[0m \u001b[0;34m\u001b[0m\u001b[0m\n\u001b[0;32m---> 85\u001b[0;31m         \u001b[0mself\u001b[0m\u001b[0;34m.\u001b[0m\u001b[0m_prepare_sending_table\u001b[0m\u001b[0;34m(\u001b[0m\u001b[0;36m1\u001b[0m\u001b[0;34m,\u001b[0m \u001b[0mpayload\u001b[0m\u001b[0;34m,\u001b[0m \u001b[0mkwargs\u001b[0m\u001b[0;34m,\u001b[0m \u001b[0mcat1\u001b[0m\u001b[0;34m,\u001b[0m \u001b[0mcolRA1\u001b[0m\u001b[0;34m,\u001b[0m \u001b[0mcolDec1\u001b[0m\u001b[0;34m)\u001b[0m\u001b[0;34m\u001b[0m\u001b[0;34m\u001b[0m\u001b[0m\n\u001b[0m\u001b[1;32m     86\u001b[0m         \u001b[0mself\u001b[0m\u001b[0;34m.\u001b[0m\u001b[0m_prepare_sending_table\u001b[0m\u001b[0;34m(\u001b[0m\u001b[0;36m2\u001b[0m\u001b[0;34m,\u001b[0m \u001b[0mpayload\u001b[0m\u001b[0;34m,\u001b[0m \u001b[0mkwargs\u001b[0m\u001b[0;34m,\u001b[0m \u001b[0mcat2\u001b[0m\u001b[0;34m,\u001b[0m \u001b[0mcolRA2\u001b[0m\u001b[0;34m,\u001b[0m \u001b[0mcolDec2\u001b[0m\u001b[0;34m)\u001b[0m\u001b[0;34m\u001b[0m\u001b[0;34m\u001b[0m\u001b[0m\n\u001b[1;32m     87\u001b[0m \u001b[0;34m\u001b[0m\u001b[0m\n",
      "\u001b[0;32m/usr/local/lib/python3.6/dist-packages/astroquery/xmatch/core.py\u001b[0m in \u001b[0;36m_prepare_sending_table\u001b[0;34m(self, i, payload, kwargs, cat, colRA, colDec)\u001b[0m\n\u001b[1;32m    113\u001b[0m             \u001b[0;31m# assume it's a file-like object, support duck-typing\u001b[0m\u001b[0;34m\u001b[0m\u001b[0;34m\u001b[0m\u001b[0;34m\u001b[0m\u001b[0m\n\u001b[1;32m    114\u001b[0m             \u001b[0mkwargs\u001b[0m\u001b[0;34m[\u001b[0m\u001b[0;34m'files'\u001b[0m\u001b[0;34m]\u001b[0m \u001b[0;34m=\u001b[0m \u001b[0;34m{\u001b[0m\u001b[0mcatstr\u001b[0m\u001b[0;34m:\u001b[0m \u001b[0;34m(\u001b[0m\u001b[0;34m'cat1.csv'\u001b[0m\u001b[0;34m,\u001b[0m \u001b[0mcat\u001b[0m\u001b[0;34m.\u001b[0m\u001b[0mread\u001b[0m\u001b[0;34m(\u001b[0m\u001b[0;34m)\u001b[0m\u001b[0;34m)\u001b[0m\u001b[0;34m}\u001b[0m\u001b[0;34m\u001b[0m\u001b[0;34m\u001b[0m\u001b[0m\n\u001b[0;32m--> 115\u001b[0;31m         \u001b[0;32mif\u001b[0m \u001b[0;32mnot\u001b[0m \u001b[0mself\u001b[0m\u001b[0;34m.\u001b[0m\u001b[0mis_table_available\u001b[0m\u001b[0;34m(\u001b[0m\u001b[0mcat\u001b[0m\u001b[0;34m)\u001b[0m\u001b[0;34m:\u001b[0m\u001b[0;34m\u001b[0m\u001b[0;34m\u001b[0m\u001b[0m\n\u001b[0m\u001b[1;32m    116\u001b[0m             \u001b[0;32mif\u001b[0m \u001b[0;34m(\u001b[0m\u001b[0;34m(\u001b[0m\u001b[0mcolRA\u001b[0m \u001b[0;32mis\u001b[0m \u001b[0;32mNone\u001b[0m\u001b[0;34m)\u001b[0m \u001b[0;32mor\u001b[0m \u001b[0;34m(\u001b[0m\u001b[0mcolDec\u001b[0m \u001b[0;32mis\u001b[0m \u001b[0;32mNone\u001b[0m\u001b[0;34m)\u001b[0m\u001b[0;34m)\u001b[0m\u001b[0;34m:\u001b[0m\u001b[0;34m\u001b[0m\u001b[0;34m\u001b[0m\u001b[0m\n\u001b[1;32m    117\u001b[0m                 raise ValueError('Specify the name of the RA/Dec columns in' +\n",
      "\u001b[0;32m/usr/local/lib/python3.6/dist-packages/astroquery/xmatch/core.py\u001b[0m in \u001b[0;36mis_table_available\u001b[0;34m(self, table_id)\u001b[0m\n\u001b[1;32m    129\u001b[0m         \u001b[0;32mif\u001b[0m \u001b[0misinstance\u001b[0m\u001b[0;34m(\u001b[0m\u001b[0mtable_id\u001b[0m\u001b[0;34m,\u001b[0m \u001b[0msix\u001b[0m\u001b[0;34m.\u001b[0m\u001b[0mstring_types\u001b[0m\u001b[0;34m)\u001b[0m \u001b[0;32mand\u001b[0m \u001b[0;34m(\u001b[0m\u001b[0mtable_id\u001b[0m\u001b[0;34m[\u001b[0m\u001b[0;34m:\u001b[0m\u001b[0;36m7\u001b[0m\u001b[0;34m]\u001b[0m \u001b[0;34m==\u001b[0m \u001b[0;34m'vizier:'\u001b[0m\u001b[0;34m)\u001b[0m\u001b[0;34m:\u001b[0m\u001b[0;34m\u001b[0m\u001b[0;34m\u001b[0m\u001b[0m\n\u001b[1;32m    130\u001b[0m             \u001b[0mtable_id\u001b[0m \u001b[0;34m=\u001b[0m \u001b[0mtable_id\u001b[0m\u001b[0;34m[\u001b[0m\u001b[0;36m7\u001b[0m\u001b[0;34m:\u001b[0m\u001b[0;34m]\u001b[0m\u001b[0;34m\u001b[0m\u001b[0;34m\u001b[0m\u001b[0m\n\u001b[0;32m--> 131\u001b[0;31m         \u001b[0;32mreturn\u001b[0m \u001b[0mtable_id\u001b[0m \u001b[0;32min\u001b[0m \u001b[0mself\u001b[0m\u001b[0;34m.\u001b[0m\u001b[0mget_available_tables\u001b[0m\u001b[0;34m(\u001b[0m\u001b[0;34m)\u001b[0m\u001b[0;34m\u001b[0m\u001b[0;34m\u001b[0m\u001b[0m\n\u001b[0m\u001b[1;32m    132\u001b[0m \u001b[0;34m\u001b[0m\u001b[0m\n\u001b[1;32m    133\u001b[0m     \u001b[0;32mdef\u001b[0m \u001b[0mget_available_tables\u001b[0m\u001b[0;34m(\u001b[0m\u001b[0mself\u001b[0m\u001b[0;34m,\u001b[0m \u001b[0mcache\u001b[0m\u001b[0;34m=\u001b[0m\u001b[0;32mTrue\u001b[0m\u001b[0;34m)\u001b[0m\u001b[0;34m:\u001b[0m\u001b[0;34m\u001b[0m\u001b[0;34m\u001b[0m\u001b[0m\n",
      "\u001b[0;31mValueError\u001b[0m: The truth value of an array with more than one element is ambiguous. Use a.any() or a.all()"
     ]
    }
   ],
   "source": [
    "table = XMatch.query(cat1=dustpedia,\n",
    "                     cat2='J/ApJ/861/49/table2',\n",
    "                     max_distance=30 * u.arcsec, colRA1='RAJ2000',\n",
    "                     colDec1='DEJ2000')\n",
    "table"
   ]
  },
  {
   "cell_type": "code",
   "execution_count": null,
   "metadata": {},
   "outputs": [],
   "source": []
  }
 ],
 "metadata": {
  "kernelspec": {
   "display_name": "Python 3",
   "language": "python",
   "name": "python3"
  },
  "language_info": {
   "codemirror_mode": {
    "name": "ipython",
    "version": 3
   },
   "file_extension": ".py",
   "mimetype": "text/x-python",
   "name": "python",
   "nbconvert_exporter": "python",
   "pygments_lexer": "ipython3",
   "version": "3.6.8"
  }
 },
 "nbformat": 4,
 "nbformat_minor": 2
}
